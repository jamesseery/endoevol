{
 "cells": [
  {
   "cell_type": "markdown",
   "metadata": {
    "collapsed": false
   },
   "source": [
    "# Evolutionary transition rates of leaf endopolyploidy"
   ]
  },
  {
   "cell_type": "markdown",
   "metadata": {},
   "source": [
    "James Seery (jseery@mail.uoguelph.ca)"
   ]
  },
  {
   "cell_type": "markdown",
   "metadata": {},
   "source": [
    "## Setting up"
   ]
  },
  {
   "cell_type": "markdown",
   "metadata": {
    "collapsed": true
   },
   "source": [
    "#### Load packages and functions"
   ]
  },
  {
   "cell_type": "code",
   "execution_count": 58,
   "metadata": {
    "collapsed": true
   },
   "outputs": [
    {
     "name": "stderr",
     "output_type": "stream",
     "text": [
      "Installing package into 'C:/Users/CCCP/Documents/R/win-library/3.2'\n",
      "(as 'lib' is unspecified)\n",
      "Warning message:\n",
      ": package 'corHMM' is in use and will not be installedInstalling package into 'C:/Users/CCCP/Documents/R/win-library/3.2'\n",
      "(as 'lib' is unspecified)\n",
      "Warning message:\n",
      ": package 'caper' is in use and will not be installedWarning message:\n",
      "In file(filename, \"r\", encoding = encoding): cannot open file 'corHMM_functions.R': No such file or directory"
     ]
    },
    {
     "ename": "ERROR",
     "evalue": "Error in file(filename, \"r\", encoding = encoding): cannot open the connection\n",
     "output_type": "error",
     "traceback": [
      "Error in file(filename, \"r\", encoding = encoding): cannot open the connection\n"
     ]
    }
   ],
   "source": [
    "tryCatch(    # Load corHMM package. Provides the functions for ancestral reconstruction and inference of transition rates.\n",
    "    library(corHMM),\n",
    "    error = install.packages(\"corHMM\", repos = \"http://cran.utstat.utoronto.ca/\")\n",
    ")\n",
    "tryCatch(    # Load CAPER package. Provides the ability to prune a large phylogeny.\n",
    "    library(caper),\n",
    "    error = install.packages(\"caper\", repos = \"http://cran.utstat.utoronto.ca/\")\n",
    ")\n",
    "source(\"corHMM_functions.R\")"
   ]
  },
  {
   "cell_type": "markdown",
   "metadata": {},
   "source": [
    "#### Import data"
   ]
  },
  {
   "cell_type": "markdown",
   "metadata": {},
   "source": [
    "##### Figure out what is the best indicator of endopolyploidy"
   ]
  },
  {
   "cell_type": "code",
   "execution_count": 170,
   "metadata": {
    "collapsed": true
   },
   "outputs": [],
   "source": [
    "setwd(\"../../Raw_data\")\n",
    "endo.data = read.csv(\"Endo_literature_data/Mined+summer_full.csv\")"
   ]
  },
  {
   "cell_type": "code",
   "execution_count": 37,
   "metadata": {
    "collapsed": false
   },
   "outputs": [
    {
     "name": "stdout",
     "output_type": "stream",
     "text": [
      "[1] \"How many entries for leaf endoreduplication index (EI)?\"\n"
     ]
    },
    {
     "data": {
      "text/html": [
       "243"
      ],
      "text/latex": [
       "243"
      ],
      "text/markdown": [
       "243"
      ],
      "text/plain": [
       "[1] 243"
      ]
     },
     "execution_count": 37,
     "metadata": {},
     "output_type": "execute_result"
    },
    {
     "name": "stdout",
     "output_type": "stream",
     "text": [
      "[1] \"How many entries for mean leaf ploidy?\"\n"
     ]
    },
    {
     "data": {
      "text/html": [
       "186"
      ],
      "text/latex": [
       "186"
      ],
      "text/markdown": [
       "186"
      ],
      "text/plain": [
       "[1] 186"
      ]
     },
     "execution_count": 37,
     "metadata": {},
     "output_type": "execute_result"
    }
   ],
   "source": [
    "print(\"How many entries for leaf endoreduplication index (EI)?\")\n",
    "length(endo.data$EI[!is.na(endo.data$EI)])\n",
    "print(\"How many entries for mean leaf ploidy?\")\n",
    "length(endo.data$Mean.ploidy[!is.na(endo.data$Mean.ploidy)])"
   ]
  },
  {
   "cell_type": "markdown",
   "metadata": {},
   "source": [
    "##### Make subset that only has EI."
   ]
  },
  {
   "cell_type": "code",
   "execution_count": 181,
   "metadata": {
    "collapsed": false
   },
   "outputs": [],
   "source": [
    "endo = endo.data[, c(2,4,6)]\n",
    "names(endo) = c(\"name\", \"state\", \"state2\")\n",
    "endo = subset(endo, !is.na(endo$state))"
   ]
  },
  {
   "cell_type": "code",
   "execution_count": 182,
   "metadata": {
    "collapsed": false
   },
   "outputs": [
    {
     "data": {
      "text/plain": [
       "   Min. 1st Qu.  Median    Mean 3rd Qu.    Max. \n",
       "0.00000 0.02230 0.04516 0.17670 0.14740 2.31800 "
      ]
     },
     "execution_count": 182,
     "metadata": {},
     "output_type": "execute_result"
    }
   ],
   "source": [
    "summary(endo$state)"
   ]
  },
  {
   "cell_type": "markdown",
   "metadata": {},
   "source": [
    "##### Turn endopolyploidy into a character with two states"
   ]
  },
  {
   "cell_type": "code",
   "execution_count": 183,
   "metadata": {
    "collapsed": false
   },
   "outputs": [
    {
     "name": "stdout",
     "output_type": "stream",
     "text": [
      "[1] \"Proportion of species in state 2:\"\n"
     ]
    },
    {
     "data": {
      "text/html": [
       "0.312757201646091"
      ],
      "text/latex": [
       "0.312757201646091"
      ],
      "text/markdown": [
       "0.312757201646091"
      ],
      "text/plain": [
       "[1] 0.3127572"
      ]
     },
     "execution_count": 183,
     "metadata": {},
     "output_type": "execute_result"
    }
   ],
   "source": [
    "threshold = 0.1 # Specify threshold endoreduplication index for deciding whether a species has endopolyploid leaves.\n",
    "state = numeric(length(endo$state)) + 0\n",
    "state[endo$state < threshold] = 1\n",
    "state[endo$state >= threshold] = 2\n",
    "print(\"Proportion of species in state 2:\")\n",
    "length(state[state == 2]) / length(state)\n",
    "endo$state = state"
   ]
  },
  {
   "cell_type": "markdown",
   "metadata": {},
   "source": [
    "##### Turn endopolyploidy and woodiness into a three-state character"
   ]
  },
  {
   "cell_type": "code",
   "execution_count": 184,
   "metadata": {
    "collapsed": false
   },
   "outputs": [
    {
     "name": "stdout",
     "output_type": "stream",
     "text": [
      "[1] \"These are the species that are woody endopolyploids\"\n"
     ]
    },
    {
     "data": {
      "text/html": [
       "<ol class=list-inline>\n",
       "\t<li>Opuntia_tomentosa</li>\n",
       "\t<li>Sophora_japonica</li>\n",
       "</ol>\n"
      ],
      "text/latex": [
       "\\begin{enumerate*}\n",
       "\\item Opuntia_tomentosa\n",
       "\\item Sophora_japonica\n",
       "\\end{enumerate*}\n"
      ],
      "text/markdown": [
       "1. Opuntia_tomentosa\n",
       "2. Sophora_japonica\n",
       "\n",
       "\n"
      ],
      "text/plain": [
       "[1] Opuntia_tomentosa Sophora_japonica \n",
       "248 Levels: Acer_nigrum Acer_saccharinum Acer_saccharum ... Zea_mays"
      ]
     },
     "execution_count": 184,
     "metadata": {},
     "output_type": "execute_result"
    }
   ],
   "source": [
    "print(\"These are the species that are woody endopolyploids\")\n",
    "endo.data$Species[endo.data$EI > 0.1 & endo.data$GH == \"W\"]"
   ]
  },
  {
   "cell_type": "markdown",
   "metadata": {},
   "source": [
    "For now we'll treat woody endopolyploid species as non-woody"
   ]
  },
  {
   "cell_type": "code",
   "execution_count": 190,
   "metadata": {
    "collapsed": false
   },
   "outputs": [],
   "source": [
    "state2 = numeric(length(endo$state)) + 0\n",
    "state2[endo$state2 == \"W\"] = 1\n",
    "state2[endo$state2 == \"H\"] = 2\n",
    "state2[endo$state == 2] = 3 # Represents non-woody endopolyploidy\n",
    "endo$state2 = state2"
   ]
  },
  {
   "cell_type": "markdown",
   "metadata": {
    "collapsed": true
   },
   "source": [
    "#### Import entire Zanne phylogeny (phylo)"
   ]
  },
  {
   "cell_type": "code",
   "execution_count": 60,
   "metadata": {
    "collapsed": false
   },
   "outputs": [],
   "source": [
    "setwd(\"../../Raw_data\")\n",
    "phylo = read.tree(\"Zanne_phylo/Zanne.nwk\")\n",
    "phylo = makeLabel(phylo) # Add unique labels to all unnamed nodes"
   ]
  },
  {
   "cell_type": "markdown",
   "metadata": {},
   "source": [
    "#### Match the phylogeny (~30,000 species) to the dataset (~168 species)"
   ]
  },
  {
   "cell_type": "code",
   "execution_count": 191,
   "metadata": {
    "collapsed": false
   },
   "outputs": [],
   "source": [
    "data = comparative.data(phy = phylo,\n",
    "                        data = endo,\n",
    "                        names.col = \"name\")"
   ]
  },
  {
   "cell_type": "markdown",
   "metadata": {},
   "source": [
    "##### Extract matched species"
   ]
  },
  {
   "cell_type": "code",
   "execution_count": 193,
   "metadata": {
    "collapsed": false
   },
   "outputs": [],
   "source": [
    "endo.matched = data.frame(data$phy$tip.label, data$data)\n",
    "names(endo.matched) = c(\"V1\", \"V2\", \"V3\")\n",
    "#endo.matched$V2 = as.factor(endo.matched$V2)\n",
    "rownames(endo.matched) = NULL"
   ]
  },
  {
   "cell_type": "markdown",
   "metadata": {},
   "source": [
    "## Modelling evolutionary transition rates of leaf endopolyploidy"
   ]
  },
  {
   "cell_type": "markdown",
   "metadata": {},
   "source": [
    "#### Symmetric transition model"
   ]
  },
  {
   "cell_type": "code",
   "execution_count": 194,
   "metadata": {
    "collapsed": false
   },
   "outputs": [
    {
     "name": "stdout",
     "output_type": "stream",
     "text": [
      "State distribution in data:\n",
      "States:\t1\t2\t\n",
      "Counts:\t145\t61\t\n",
      "Initializing... \n",
      "Finished. Beginning thorough search... \n",
      "Finished. Inferring ancestral states using marginal reconstruction. \n",
      "Finished. Performing diagnostic tests. \n"
     ]
    },
    {
     "data": {
      "text/plain": [
       "\n",
       "Fit\n",
       "      -lnL     AIC     AICc ntax\n",
       " -100.1455 202.291 202.3106  206\n",
       "\n",
       "Rates\n",
       "            1           2\n",
       "1          NA 0.005577381\n",
       "2 0.005577381          NA\n",
       "\n",
       "Arrived at a reliable solution "
      ]
     },
     "execution_count": 194,
     "metadata": {},
     "output_type": "execute_result"
    }
   ],
   "source": [
    "Sym_model = rayDISC(phy = data[[1]],\n",
    "                    data = endo.matched,\n",
    "                    model = \"ER\",\n",
    "                    node.state = \"marginal\"\n",
    "                   )\n",
    "\n",
    "Sym_model"
   ]
  },
  {
   "cell_type": "markdown",
   "metadata": {},
   "source": [
    "#### Asymmetric transition models"
   ]
  },
  {
   "cell_type": "code",
   "execution_count": 165,
   "metadata": {
    "collapsed": false
   },
   "outputs": [
    {
     "name": "stdout",
     "output_type": "stream",
     "text": [
      "State distribution in data:\n",
      "States:\t1\t2\t\n",
      "Counts:\t145\t61\t\n",
      "Initializing... \n",
      "Finished. Beginning thorough search... \n",
      "Finished. Inferring ancestral states using marginal reconstruction. \n",
      "Finished. Performing diagnostic tests. \n"
     ]
    },
    {
     "data": {
      "text/plain": [
       "\n",
       "Fit\n",
       "      -lnL     AIC     AICc ntax\n",
       " -93.15551 190.311 190.3701  206\n",
       "\n",
       "Rates\n",
       "           1           2\n",
       "1         NA 0.005610422\n",
       "2 0.01798226          NA\n",
       "\n",
       "Arrived at a reliable solution "
      ]
     },
     "execution_count": 165,
     "metadata": {},
     "output_type": "execute_result"
    }
   ],
   "source": [
    "Asym_model = rayDISC(phy = data[[1]],\n",
    "                    data = endo.matched,\n",
    "                    model = \"ARD\",\n",
    "                    node.state = \"marginal\"\n",
    "                   )\n",
    "\n",
    "Asym_model"
   ]
  },
  {
   "cell_type": "markdown",
   "metadata": {},
   "source": [
    "##### Compare models using a $\\chi^2$ test of ln(likelihood) scores"
   ]
  },
  {
   "cell_type": "code",
   "execution_count": 168,
   "metadata": {
    "collapsed": false
   },
   "outputs": [
    {
     "data": {
      "text/html": [
       "13.9800134854656"
      ],
      "text/latex": [
       "13.9800134854656"
      ],
      "text/markdown": [
       "13.9800134854656"
      ],
      "text/plain": [
       "[1] 13.98001"
      ]
     },
     "execution_count": 168,
     "metadata": {},
     "output_type": "execute_result"
    },
    {
     "data": {
      "text/html": [
       "0.000184764292581707"
      ],
      "text/latex": [
       "0.000184764292581707"
      ],
      "text/markdown": [
       "0.000184764292581707"
      ],
      "text/plain": [
       "[1] 0.0001847643"
      ]
     },
     "execution_count": 168,
     "metadata": {},
     "output_type": "execute_result"
    }
   ],
   "source": [
    "comp.Asym.Sym = 2*(Asym_model$loglik - Sym_model$loglik) ###order of function should have the better fitting model (higher loglik) listed first\n",
    "comp.Asym.Sym\n",
    "pchisq(comp.Asym.Sym, df = 1, lower.tail=FALSE)"
   ]
  },
  {
   "cell_type": "markdown",
   "metadata": {},
   "source": [
    "#### Asymmetric model is significantly better"
   ]
  },
  {
   "cell_type": "markdown",
   "metadata": {},
   "source": [
    "## Modelling transitions of endopolyploidy and woodiness"
   ]
  },
  {
   "cell_type": "markdown",
   "metadata": {},
   "source": [
    "We have at least one species that is woody and endopolyploidy. For now it has been binned into non-woody endopolyploid species."
   ]
  },
  {
   "cell_type": "code",
   "execution_count": 195,
   "metadata": {
    "collapsed": false
   },
   "outputs": [
    {
     "name": "stdout",
     "output_type": "stream",
     "text": [
      "State distribution in data:\n",
      "States:\t1\t2\t3\t\n",
      "Counts:\t52\t93\t61\t\n",
      "Initializing... \n",
      "Finished. Beginning thorough search... \n",
      "Finished. Inferring ancestral states using marginal reconstruction. \n",
      "Finished. Performing diagnostic tests. \n"
     ]
    },
    {
     "data": {
      "text/plain": [
       "\n",
       "Fit\n",
       "      -lnL     AIC     AICc ntax\n",
       " -143.1275 288.255 288.2746  206\n",
       "\n",
       "Rates\n",
       "            1           2           3\n",
       "1          NA 0.004194609 0.004194609\n",
       "2 0.004194609          NA 0.004194609\n",
       "3 0.004194609 0.004194609          NA\n",
       "\n",
       "Arrived at a reliable solution "
      ]
     },
     "execution_count": 195,
     "metadata": {},
     "output_type": "execute_result"
    }
   ],
   "source": [
    "Sym_wood_model = rayDISC(phy = data[[1]],\n",
    "                        data = endo.matched,\n",
    "                        charnum = 2, # Specifies the endo+woody trait\n",
    "                        model = \"ER\",\n",
    "                        node.state = \"marginal\"\n",
    "                       )\n",
    "\n",
    "Sym_wood_model"
   ]
  },
  {
   "cell_type": "code",
   "execution_count": 206,
   "metadata": {
    "collapsed": false
   },
   "outputs": [
    {
     "name": "stdout",
     "output_type": "stream",
     "text": [
      "State distribution in data:\n",
      "States:\t1\t2\t3\t\n",
      "Counts:\t52\t93\t61\t\n",
      "Initializing... \n",
      "Finished. Beginning thorough search... \n",
      "Finished. Inferring ancestral states using marginal reconstruction. \n",
      "Finished. Performing diagnostic tests. \n"
     ]
    },
    {
     "data": {
      "text/plain": [
       "\n",
       "Fit\n",
       "      -lnL      AIC     AICc ntax\n",
       " -127.8692 267.7384 268.1605  206\n",
       "\n",
       "Rates\n",
       "             1           2           3\n",
       "1           NA 0.003235799 0.004727352\n",
       "2 0.0006196325          NA 0.008136740\n",
       "3 0.0000000000 0.018835981          NA\n",
       "\n",
       "Arrived at a reliable solution "
      ]
     },
     "execution_count": 206,
     "metadata": {},
     "output_type": "execute_result"
    }
   ],
   "source": [
    "Asym_wood_model = rayDISC(phy = data[[1]],\n",
    "                        data = endo.matched,\n",
    "                        charnum = 2, # Specifies the endo+woody trait\n",
    "                        model = \"ARD\",\n",
    "                        node.state = \"marginal\"\n",
    "                       )\n",
    "\n",
    "Asym_wood_model"
   ]
  },
  {
   "cell_type": "markdown",
   "metadata": {},
   "source": [
    "##### Compare models using a $\\chi^2$ test of ln(likelihood) scores"
   ]
  },
  {
   "cell_type": "code",
   "execution_count": 197,
   "metadata": {
    "collapsed": false
   },
   "outputs": [
    {
     "data": {
      "text/html": [
       "30.5166791804568"
      ],
      "text/latex": [
       "30.5166791804568"
      ],
      "text/markdown": [
       "30.5166791804568"
      ],
      "text/plain": [
       "[1] 30.51668"
      ]
     },
     "execution_count": 197,
     "metadata": {},
     "output_type": "execute_result"
    },
    {
     "data": {
      "text/html": [
       "3.31008422749898e-08"
      ],
      "text/latex": [
       "3.31008422749898e-08"
      ],
      "text/markdown": [
       "3.31008422749898e-08"
      ],
      "text/plain": [
       "[1] 3.310084e-08"
      ]
     },
     "execution_count": 197,
     "metadata": {},
     "output_type": "execute_result"
    }
   ],
   "source": [
    "comp.Asym.Sym_wood = 2*(Asym_wood_model$loglik - Sym_wood_model$loglik) ###order of function should have the better fitting model (higher loglik) listed first\n",
    "comp.Asym.Sym_wood\n",
    "pchisq(comp.Asym.Sym_wood, df = 1, lower.tail=FALSE)"
   ]
  },
  {
   "cell_type": "markdown",
   "metadata": {},
   "source": [
    "### See if better fit can be obtained by making rates 4 and 6 equal"
   ]
  },
  {
   "cell_type": "code",
   "execution_count": 210,
   "metadata": {
    "collapsed": false
   },
   "outputs": [],
   "source": [
    "trans_mat_eq46 = rate.mat.maker(hrm = FALSE, ntraits = 1, nstates = 3, model = \"ARD\")\n",
    "trans_mat_eq46 = rate.par.eq(trans_mat_eq46, eq.par = c(4, 6))"
   ]
  },
  {
   "cell_type": "code",
   "execution_count": 211,
   "metadata": {
    "collapsed": false
   },
   "outputs": [
    {
     "name": "stdout",
     "output_type": "stream",
     "text": [
      "State distribution in data:\n",
      "States:\t1\t2\t3\t\n",
      "Counts:\t52\t93\t61\t\n",
      "Initializing... \n",
      "Finished. Beginning thorough search... \n",
      "Finished. Inferring ancestral states using marginal reconstruction. \n",
      "Finished. Performing diagnostic tests. \n"
     ]
    },
    {
     "data": {
      "text/plain": [
       "\n",
       "Fit\n",
       "      -lnL      AIC     AICc ntax\n",
       " -130.2224 270.4448 270.7448  206\n",
       "\n",
       "Rates\n",
       "             1           2            3\n",
       "1           NA 0.007687841 0.0003588803\n",
       "2 0.0005671618          NA 0.0123882093\n",
       "3 0.0000000000 0.012388209           NA\n",
       "\n",
       "Arrived at a reliable solution "
      ]
     },
     "execution_count": 211,
     "metadata": {},
     "output_type": "execute_result"
    }
   ],
   "source": [
    "Asym_wood_model_eq46 = rayDISC(phy = data[[1]],\n",
    "                        data = endo.matched,\n",
    "                        charnum = 2, # Specifies the endo+woody trait\n",
    "                        model = \"ARD\",\n",
    "                        node.state = \"marginal\",\n",
    "                        rate.mat = trans_mat_eq46\n",
    "                       )\n",
    "\n",
    "Asym_wood_model_eq46"
   ]
  },
  {
   "cell_type": "markdown",
   "metadata": {},
   "source": [
    "#### Is the totally asymmetric model still better?"
   ]
  },
  {
   "cell_type": "code",
   "execution_count": 212,
   "metadata": {
    "collapsed": false,
    "scrolled": false
   },
   "outputs": [
    {
     "data": {
      "text/html": [
       "4.70643782871156"
      ],
      "text/latex": [
       "4.70643782871156"
      ],
      "text/markdown": [
       "4.70643782871156"
      ],
      "text/plain": [
       "[1] 4.706438"
      ]
     },
     "execution_count": 212,
     "metadata": {},
     "output_type": "execute_result"
    },
    {
     "data": {
      "text/html": [
       "0.0300498558144399"
      ],
      "text/latex": [
       "0.0300498558144399"
      ],
      "text/markdown": [
       "0.0300498558144399"
      ],
      "text/plain": [
       "[1] 0.03004986"
      ]
     },
     "execution_count": 212,
     "metadata": {},
     "output_type": "execute_result"
    }
   ],
   "source": [
    "comp.Asym_wood_eq46 = 2*(Asym_wood_model$loglik - Asym_wood_model_eq46$loglik) ###order of function should have the better fitting model (higher loglik) listed first\n",
    "comp.Asym_wood_eq46\n",
    "pchisq(comp.Asym_wood_eq46, df = 1, lower.tail=FALSE) # It is indeed better."
   ]
  },
  {
   "cell_type": "markdown",
   "metadata": {},
   "source": [
    "# See if dropping 2 makes stuff really good!"
   ]
  },
  {
   "cell_type": "code",
   "execution_count": null,
   "metadata": {
    "collapsed": true
   },
   "outputs": [],
   "source": []
  },
  {
   "cell_type": "markdown",
   "metadata": {},
   "source": [
    "### See if better fit can be obtained by making rate 1 equal to zero"
   ]
  },
  {
   "cell_type": "code",
   "execution_count": 200,
   "metadata": {
    "collapsed": false
   },
   "outputs": [],
   "source": [
    "trans_mat_z1 = rate.mat.maker(hrm = FALSE, ntraits = 1, nstates = 3, model = \"ARD\")\n",
    "trans_mat_z1 = rate.par.drop(trans_mat_z1, drop.par = 1)"
   ]
  },
  {
   "cell_type": "code",
   "execution_count": 201,
   "metadata": {
    "collapsed": false
   },
   "outputs": [
    {
     "name": "stdout",
     "output_type": "stream",
     "text": [
      "State distribution in data:\n",
      "States:\t1\t2\t3\t\n",
      "Counts:\t52\t93\t61\t\n",
      "Initializing... \n",
      "Finished. Beginning thorough search... \n",
      "Finished. Inferring ancestral states using marginal reconstruction. \n",
      "Finished. Performing diagnostic tests. \n"
     ]
    },
    {
     "data": {
      "text/plain": [
       "\n",
       "Fit\n",
       "     -lnL      AIC     AICc ntax\n",
       " -128.141 266.2821 266.5821  206\n",
       "\n",
       "Rates\n",
       "           1           2           3\n",
       "1         NA 0.003131856 0.005109688\n",
       "2         NA          NA 0.008021773\n",
       "3 0.00065081 0.018564804          NA\n",
       "\n",
       "Arrived at a reliable solution "
      ]
     },
     "execution_count": 201,
     "metadata": {},
     "output_type": "execute_result"
    }
   ],
   "source": [
    "Asym_wood_model_z1 = rayDISC(phy = data[[1]],\n",
    "                        data = endo.matched,\n",
    "                        charnum = 2, # Specifies the endo+woody trait\n",
    "                        model = \"ARD\",\n",
    "                        node.state = \"marginal\",\n",
    "                        rate.mat = trans_mat_z1\n",
    "                       )\n",
    "\n",
    "Asym_wood_model_z1"
   ]
  },
  {
   "cell_type": "markdown",
   "metadata": {},
   "source": [
    "#### Is the totally asymmetric model still better?"
   ]
  },
  {
   "cell_type": "code",
   "execution_count": 202,
   "metadata": {
    "collapsed": false,
    "scrolled": true
   },
   "outputs": [
    {
     "data": {
      "text/html": [
       "0.543716678098406"
      ],
      "text/latex": [
       "0.543716678098406"
      ],
      "text/markdown": [
       "0.543716678098406"
      ],
      "text/plain": [
       "[1] 0.5437167"
      ]
     },
     "execution_count": 202,
     "metadata": {},
     "output_type": "execute_result"
    },
    {
     "data": {
      "text/html": [
       "0.46089648307931"
      ],
      "text/latex": [
       "0.46089648307931"
      ],
      "text/markdown": [
       "0.46089648307931"
      ],
      "text/plain": [
       "[1] 0.4608965"
      ]
     },
     "execution_count": 202,
     "metadata": {},
     "output_type": "execute_result"
    }
   ],
   "source": [
    "comp.Asym_wood_z1 = 2*(Asym_wood_model$loglik - Asym_wood_model_z1$loglik) ###order of function should have the better fitting model (higher loglik) listed first\n",
    "comp.Asym_wood_z1\n",
    "pchisq(comp.Asym_wood_z1, df = 1, lower.tail=FALSE) # It may not be better."
   ]
  },
  {
   "cell_type": "markdown",
   "metadata": {},
   "source": [
    "### Plot best model"
   ]
  },
  {
   "cell_type": "code",
   "execution_count": null,
   "metadata": {
    "collapsed": true
   },
   "outputs": [],
   "source": [
    "# . . . \n",
    "\n",
    "transition_matrix = rate.mat.maker(hrm=FALSE,ntraits=1,nstates=3,model=\"ARD\") # If the asymmetric model is best, otherwise use model=\"ER\"."
   ]
  }
 ],
 "metadata": {
  "celltoolbar": "Raw Cell Format",
  "kernelspec": {
   "display_name": "R",
   "language": "R",
   "name": "ir"
  },
  "language_info": {
   "codemirror_mode": "r",
   "file_extension": ".r",
   "mimetype": "text/x-r-source",
   "name": "R",
   "pygments_lexer": "r",
   "version": "3.2.3"
  }
 },
 "nbformat": 4,
 "nbformat_minor": 0
}
