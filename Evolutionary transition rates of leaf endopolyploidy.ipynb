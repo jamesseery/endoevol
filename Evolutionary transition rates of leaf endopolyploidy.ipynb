{
 "cells": [
  {
   "cell_type": "markdown",
   "metadata": {
    "collapsed": false
   },
   "source": [
    "# Evolutionary transition rates of leaf endopolyploidy"
   ]
  },
  {
   "cell_type": "markdown",
   "metadata": {},
   "source": [
    "Written by James Seery (jseery@mail.uoguelph.ca)"
   ]
  },
  {
   "cell_type": "markdown",
   "metadata": {},
   "source": [
    "## Setup"
   ]
  },
  {
   "cell_type": "markdown",
   "metadata": {
    "collapsed": true
   },
   "source": [
    "#### Load packages and functions"
   ]
  },
  {
   "cell_type": "code",
   "execution_count": null,
   "metadata": {
    "collapsed": true
   },
   "outputs": [],
   "source": [
    "tryCatch(    # Load corHMM package. Provides the functions for ancestral reconstruction and inference of transition rates.\n",
    "    library(corHMM),\n",
    "    error = install.packages(\"corHMM\", repos = \"http://cran.utstat.utoronto.ca/\")\n",
    ")\n",
    "tryCatch(    # Load CAPER package. Provides the ability to prune a large phylogeny.\n",
    "    library(caper),\n",
    "    error = install.packages(\"caper\", repos = \"http://cran.utstat.utoronto.ca/\")\n",
    ")\n",
    "source(corHMM_functions.R)"
   ]
  },
  {
   "cell_type": "markdown",
   "metadata": {
    "collapsed": true
   },
   "source": [
    "#### Import dataset: entire Zanne phylogeny (phylo); and species data (endo)"
   ]
  },
  {
   "cell_type": "code",
   "execution_count": null,
   "metadata": {
    "collapsed": false
   },
   "outputs": [],
   "source": [
    "phylo = read.tree(\"Zanne.nwk\")\n",
    "phylo = makeLabels(phylo) # Add unique labels to all unnamed nodes\n",
    "endo = read.csv(\"EI.csv\") # Species names that match the tree in column 1 (labeled 'name', and leaf endoreduplication index in column 2 (labeled 'state')."
   ]
  },
  {
   "cell_type": "markdown",
   "metadata": {},
   "source": [
    "#### Turn endopolyploidy into a character with two states"
   ]
  },
  {
   "cell_type": "code",
   "execution_count": null,
   "metadata": {
    "collapsed": true
   },
   "outputs": [],
   "source": [
    "threshold = 0.1 # Specify threshold endoreduplication index for deciding whether a species has endopolyploid leaves.\n",
    "endo$state = state_threshold(endo$state, threshold)"
   ]
  },
  {
   "cell_type": "markdown",
   "metadata": {},
   "source": [
    "#### Match the phylogeny (~30,000 species) to the dataset (~168 species)"
   ]
  },
  {
   "cell_type": "code",
   "execution_count": null,
   "metadata": {
    "collapsed": true
   },
   "outputs": [],
   "source": [
    "data = comparative.data(phy = phylo,\n",
    "                        data = endo,\n",
    "                        names.col = \"name\")"
   ]
  },
  {
   "cell_type": "markdown",
   "metadata": {},
   "source": [
    "## Run evolutionary rates models"
   ]
  },
  {
   "cell_type": "code",
   "execution_count": null,
   "metadata": {
    "collapsed": true
   },
   "outputs": [],
   "source": [
    "ARD_ancestorNonEndo = transition_model(data, \n",
    "                                       model = \"ARD\", \n",
    "                                       root_nonendo = TRUE)\n",
    "ARD_ancestorUnknown = transition_model(data, \n",
    "                                       model = \"ARD\")\n",
    "ARD_ancestorNonEndo$AIC - ARD_ancestorUnknown/"
   ]
  }
 ],
 "metadata": {
  "kernelspec": {
   "display_name": "Python 3",
   "language": "python",
   "name": "python3"
  },
  "language_info": {
   "codemirror_mode": {
    "name": "ipython",
    "version": 3
   },
   "file_extension": ".py",
   "mimetype": "text/x-python",
   "name": "python",
   "nbconvert_exporter": "python",
   "pygments_lexer": "ipython3",
   "version": "3.5.1"
  }
 },
 "nbformat": 4,
 "nbformat_minor": 0
}
