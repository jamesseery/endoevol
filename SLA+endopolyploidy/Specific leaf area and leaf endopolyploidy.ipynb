{
 "cells": [
  {
   "cell_type": "markdown",
   "metadata": {},
   "source": [
    "# Specific leaf area and leaf endopolyploidy"
   ]
  },
  {
   "cell_type": "markdown",
   "metadata": {},
   "source": [
    "James Seery (jseery@mail.uoguelph.ca)"
   ]
  },
  {
   "cell_type": "markdown",
   "metadata": {},
   "source": [
    "## Setup"
   ]
  },
  {
   "cell_type": "markdown",
   "metadata": {},
   "source": [
    "Load packages for phylogenetic regression (caper) and function scripts."
   ]
  },
  {
   "cell_type": "code",
   "execution_count": null,
   "metadata": {
    "collapsed": true
   },
   "outputs": [],
   "source": [
    "tryCatch(    # To run caper, load this package dependency.\n",
    "    library(mvtnorm),\n",
    "    error = install.packages(\"mvtnorm\", repos = \"http://cran.utstat.utoronto.ca/\"))\n",
    "tryCatch(    # ... and this one too.\n",
    "    library(ape),\n",
    "    error = install.packages(\"ape\", repos = \"http://cran.utstat.utoronto.ca/\"))\n",
    "tryCatch(    # Now load caper package.\n",
    "    library(caper),\n",
    "    error = install.packages(\"caper\", repos = \"http://cran.utstat.utoronto.ca/\"))\n",
    "source(pgls_functions.R)"
   ]
  },
  {
   "cell_type": "markdown",
   "metadata": {},
   "source": [
    "Load phylogenies: (1) The Angiosperm Phylogeny Group has family-level resolution; therefore, each family is a polytomy. (2) The Zanne phylogeny has species-level resolution, but does not have all species."
   ]
  },
  {
   "cell_type": "code",
   "execution_count": 2,
   "metadata": {
    "collapsed": false
   },
   "outputs": [
    {
     "name": "stderr",
     "output_type": "stream",
     "text": [
      "Loading required package: ape\n",
      "Loading required package: MASS\n",
      "Loading required package: mvtnorm\n"
     ]
    }
   ],
   "source": [
    "setwd(\"../../Raw_data\")\n",
    "\n",
    "apg.tree = read.tree(\"APG_phylo/Webb_ages_pruned_unrooted.nwk\")\n",
    "apg.tree = makeLabel(apg.tree) # Fix duplicate node names (because some are blank) error for comparative.data()\n",
    "z.tree = read.tree(\"Zanne_phylo/Zanne_pruned.nwk\")\n",
    "z.tree = makeLabel(z.tree)"
   ]
  },
  {
   "cell_type": "markdown",
   "metadata": {},
   "source": [
    "Load and compile relevant datasets: specific leaf area (SLA); (2) relative leaf water content (RWC); (3) leaf chlorophyll content (CC); (4) flow cytometry data on genome size and leaf endopolyploidy; and (5) growth form (GF). Endopolyploidy is represented in two ways: (1) leaf endoreduplication index (EI) and (2) mean leaf ploidy (MeanC). EXPORT THIS INTO FUNCTIONS HELD IN Raw_data"
   ]
  },
  {
   "cell_type": "code",
   "execution_count": null,
   "metadata": {
    "collapsed": true
   },
   "outputs": [],
   "source": [
    "SLA_RWC = read.csv(\"SLA_RWC.csv\")\n",
    "CC = read.csv(\"CC.csv\")\n",
    "Flow_cytometry = read.csv(\"Flow_cytometry.csv\")\n",
    "GF = read.csv(\"GF.csv\")\n",
    "names(GF) = c(\"Species\", \"Lifespan\", \"Ann_per\", \"GH\", \"Wood_herb\")\n",
    "\n",
    "# Turn raw data into something sensible\n",
    "SLA_RWC$SLA = SLA_RWC$LeafArea/(10000*SLA_RWC$DriedMass) # Standardize SLA to square metres per gram\n",
    "SLA_RWC$RWC = (SLA_RWC$FreshMass - SLA_RWC$DriedMass)/SLA_RWC$DriedMass\n",
    "Flow_cytometry$EI = rowMeans(cbind(Flow_cytometry$EI.FL2, Flow_cytometry$EI.FL3), na.rm=TRUE) # Get mean EI across the cytometers two detectors: FL2 and FL3\n",
    "Flow_cytometry$MeanC = rowMeans(cbind(Flow_cytometry$MeanC.FL2, Flow_cytometry$MeanC.FL3), na.rm=TRUE)\n",
    "GF$A_HP_WP = character(length(GF$Species))\n",
    "GF$A_HP_WP[GF$Wood_herb == 'H'] = \"HP\"\n",
    "GF$A_HP_WP[GF$Ann_per == 'A'] = \"A\" # This command must come after the former. The former command incorrectly assigns \"HP\" to annual species.\n",
    "GF$A_HP_WP[GF$Wood_herb == 'W'] = \"WP\"\n",
    "\n",
    "# Get species-level mean of each trait\n",
    "mean.SLA_RWC = aggregate(data.frame(SLA = SLA_RWC$SLA, RWC = SLA_RWC$VcVw),\n",
    "                         by=list(Species = SLA_RWC$Species), mean, na.rm=TRUE)\n",
    "mean.CC = aggregate(list(CC = CC$CC),\n",
    "                    by=list(Species = CC$Species), mean, na.rm=TRUE)\n",
    "mean.Flow_cytometry = aggregate(data.frame(Genome.size = Flow_cytometry$Genome.size,\n",
    "                                           EI = Flow_cytometry$EI\n",
    "                                           MeanC = Flow_cytometry$MeanC\n",
    "                                           Day = Flow_cytometry$Day),\n",
    "                     by=list(Species = DNA$Species), mean, na.rm=TRUE)\n",
    "\n",
    "# Merge into one data frame\n",
    "data_partA = merge(mean.SLA_RWC,\n",
    "                   list(Species = GF$Species, Wood_herb = GF$Wood_herb, A_HP_WP = GF$A_HP_WP),\n",
    "                   by=\"Species\", all.x=TRUE)\n",
    "data_partB = merge(mean.Flow_cytometry,\n",
    "                   mean.CC,\n",
    "                   by=\"Species\", all=TRUE)\n",
    "data = merge(dataA,\n",
    "             dataB,\n",
    "             by=\"Species\", all.x=TRUE)\n",
    "\n",
    "write.csv(data, file=\"SLA+endopolyploidy.csv\")"
   ]
  },
  {
   "cell_type": "markdown",
   "metadata": {},
   "source": [
    "Subset data for (1) only herbaceous species and (2) only endopolyploid species."
   ]
  },
  {
   "cell_type": "code",
   "execution_count": null,
   "metadata": {
    "collapsed": true
   },
   "outputs": [],
   "source": [
    "data.herb = subset(data, data$Wood_herb == 'H')\n",
    "data.endo = subset(data, data$EI >= 0.1)"
   ]
  },
  {
   "cell_type": "markdown",
   "metadata": {},
   "source": [
    "Combine the data and phylogenies into a object of type comparative.data."
   ]
  },
  {
   "cell_type": "code",
   "execution_count": null,
   "metadata": {
    "collapsed": true
   },
   "outputs": [],
   "source": [
    "z.data = comparative.data(phy=z.tree, data=data, names.col=\"Species\", vcv=TRUE) # vcv=TRUE will do some pre-processing for the regression by calculating the variance-covariance matrix\n",
    "z.data.herb = comparative.data(phy=z.tree, data=data.herb, names.col=\"Species\", vcv=TRUE)\n",
    "z.data.endo = comparative.data(phy=z.tree, data=data.endo, names.col=\"Species\", vcv=TRUE)\n",
    "data$Species = tolower(data$Species))\n",
    "apg.data = comparative.data(phy=apg.tree, data=data, names.col=\"Species\", vcv=TRUE)\n",
    "data.herb$Species = tolower(data.herb$Species))\n",
    "apg.data.herb = comparative.data(phy=apg.tree, data=data.herb, names.col=\"Species\", vcv=TRUE)\n",
    "data.endo$Species = tolower(data.endo$Species))\n",
    "apg.data.endo = comparative.data(phy=apg.tree, data=data.endo, names.col=\"Species\", vcv=TRUE)"
   ]
  },
  {
   "cell_type": "markdown",
   "metadata": {},
   "source": [
    "### Data transformation"
   ]
  },
  {
   "cell_type": "code",
   "execution_count": null,
   "metadata": {
    "collapsed": true
   },
   "outputs": [],
   "source": [
    "dist.check(data$SLA)"
   ]
  },
  {
   "cell_type": "code",
   "execution_count": null,
   "metadata": {
    "collapsed": true
   },
   "outputs": [],
   "source": [
    "dist.check(data$EI)"
   ]
  },
  {
   "cell_type": "code",
   "execution_count": null,
   "metadata": {
    "collapsed": true
   },
   "outputs": [],
   "source": [
    "dist.check(data$MeanC) # The linearity of this is far worse than log(EI); therefore, don't use MeanC."
   ]
  },
  {
   "cell_type": "code",
   "execution_count": null,
   "metadata": {
    "collapsed": true
   },
   "outputs": [],
   "source": [
    "dist.check(data$Genome.size)"
   ]
  },
  {
   "cell_type": "code",
   "execution_count": null,
   "metadata": {
    "collapsed": true
   },
   "outputs": [],
   "source": [
    "dist.check(data$RWC)"
   ]
  },
  {
   "cell_type": "code",
   "execution_count": null,
   "metadata": {
    "collapsed": true
   },
   "outputs": [],
   "source": [
    "dist.check(data$Day)"
   ]
  },
  {
   "cell_type": "code",
   "execution_count": null,
   "metadata": {
    "collapsed": true
   },
   "outputs": [],
   "source": [
    "op = par(mfrow = c(2, 2))\n",
    "\n",
    "plot(data$SLA ~ data$MeanC)\n",
    "plot(log(data$SLA) ~ log(data$MeanC))\n",
    "plot(data$SLA ~ data$EI)\n",
    "plot(log(data$SLA) ~ log(data$EI))\n",
    "\n",
    "par(op)"
   ]
  },
  {
   "cell_type": "code",
   "execution_count": null,
   "metadata": {
    "collapsed": true
   },
   "outputs": [],
   "source": [
    "op = par(mfrow = c(2, 2))\n",
    "\n",
    "plot(data$RWC ~ data$MeanC)\n",
    "plot(log(data$RWC) ~ log(data$MeanC))\n",
    "plot(data$RWC ~ data$EI)\n",
    "plot(log(data$RWC) ~ log(data$EI))\n",
    "\n",
    "par(op)"
   ]
  },
  {
   "cell_type": "markdown",
   "metadata": {},
   "source": [
    "## Regression"
   ]
  },
  {
   "cell_type": "markdown",
   "metadata": {},
   "source": [
    "#### The relationship between endopolyplody and growth form"
   ]
  },
  {
   "cell_type": "code",
   "execution_count": null,
   "metadata": {
    "collapsed": true
   },
   "outputs": [],
   "source": [
    "boxplot(log(EI) ~ A_HP_WP, data=data)\n",
    "pglsZ.EI.A_HP_WP = pgls(log(EI) ~ A_HP_WP + log(Genome.size) + Day, z.data, lambda='ML')\n",
    "summary(pglsZ.EI.A_HP_WP)\n",
    "# 95% CI for \"Herbaceous perennial\" coefficient\n",
    "c(-0.1632381 - qt(0.025, 146)*0.1679523/sqrt(147), -0.1632381 + qt(0.025, 146)*0.1679523/sqrt(147))\n",
    "# 95% CI for \"Woody perennial\" coefficient\n",
    "c(-0.7274948 - qt(0.025, 146)*0.2394684/sqrt(147), -0.7274948 + qt(0.025, 146)*0.2394684/sqrt(147))\n",
    "pglsAPG.EI.A_HP_WP = pgls(log(EI) ~ A_HP_WP + log(Genome.size) + Day, apg.data, lambda='ML')\n",
    "summary(pglsAPG.EI.A_HP_WP) # very similar\n",
    "# 95% CI for \"Herbaceous perennial\" coefficient\n",
    "c(-0.1714383 - qt(0.025, 161)*0.1782131/sqrt(162), -0.1714383 + qt(0.025, 161)*0.1782131/sqrt(162))\n",
    "# 95% CI for \"Woody perennial\" coefficient\n",
    "c(-0.6569639 - qt(0.025, 161)*0.2269929/sqrt(162), -0.6569639 + qt(0.025, 161)*0.2269929/sqrt(162))\n",
    "\n",
    "# There is no difference between HP and A; therefore, the only growth form difference is between herbaceous and woody.\n",
    "# Replace instances of A_HP_WP (three growth form categories) with Wood_herb (two growth form categories)\n",
    "boxplot(log(EI) ~ Wood_herb, data=data)\n",
    "pglsZ.EI.Wood_herb = pgls(log(EI) ~ Wood_herb + log(Genome.size) + Day, z.data, lambda='ML')\n",
    "summary(pglsZ.EI.Wood_herb)\n",
    "AIC(pglsZ.EI.Wood_herb) # 326.2549 <- Best score\n",
    "pglsAPG.EI.Wood_herb = pgls(log(EI) ~ Wood_herb + log(Genome.size) + Day, apg.data, lambda='ML')\n",
    "summary(pglsAPG.EI.Wood_herb)\n",
    "AIC(pglsAPG.EI.Wood_herb) # 366.7467\n",
    "\n",
    "# For plotting, remove Day.\n",
    "pglsZ.EI.Wood_herb.simple = pgls(log(EI) ~ Wood_herb + log(Genome.size), z.data, lambda='ML')\n",
    "summary(pglsZ.EI.Wood_herb.simple)\n",
    "AIC(pglsZ.EI.Wood_herb.simple)\n",
    "windows(width=10, height=10)\n",
    "plot(log(EI) ~ log(Genome.size), type='n', data, ylab=\"Ln leaf endoreduplication index\", xlab=expression(\"Ln genome size\" ~ (pg ~ \"2C\"^{-1})), main=\"Zanne (Akaike weight > 99%)\")\n",
    "points(log(EI) ~ log(Genome.size), data=data[data$Wood_herb == \"H\", ], pch=4)\n",
    "points(log(EI) ~ log(Genome.size), data=data[data$Wood_herb == \"W\", ], pch=17)\n",
    "abline(pglsZ.EI.Wood_herb.simple$model$coef[1], 0)\n",
    "# text(x=4.4, -4, labels=\"p = ???\")\n",
    "# text(x=4.52, -4.35, labels=\"AIC = ???\")\n",
    "abline(pglsZ.EI.Wood_herb.simple$model$coef[1] + pglsZ.EI.Wood_herb.simple$model$coef[2], 0, lty=2)\n",
    "# text(x=4.4, -2.4, labels=\"p = ???\")\n",
    "# text(x=4.52, -2.75, labels=\"AIC = ???\")\n",
    "legend(\"topright\",\n",
    "       inset = 0.025, \n",
    "       c(\"Herbaceous\", \"Woody\"),\n",
    "       lty = c(1,2),\n",
    "       pch = c(4,17))"
   ]
  },
  {
   "cell_type": "markdown",
   "metadata": {},
   "source": [
    "#### The relationship between SLA and endopolyploidy via RWC"
   ]
  },
  {
   "cell_type": "markdown",
   "metadata": {},
   "source": [
    "Regression. There is no interaction effect of endopolyploidy and growth form on either SLA or RWC."
   ]
  },
  {
   "cell_type": "markdown",
   "metadata": {},
   "source": [
    "##### SLA and endopolyploidy for Angiosperms in general"
   ]
  },
  {
   "cell_type": "markdown",
   "metadata": {},
   "source": [
    "Lack of correlation between endopolyploidy and the response variables"
   ]
  },
  {
   "cell_type": "code",
   "execution_count": null,
   "metadata": {
    "collapsed": true
   },
   "outputs": [],
   "source": [
    "mar.default <- c(5,4,4,2) + 0.1\n",
    "op=par(mar = mar.default + c(0, 1, 0, 0), mfrow=c(2,1))\n",
    "plot(log(SLA) ~ log(EI), data=data, xlab=\"\", xaxt='n', \n",
    "     ylab=expression(\"Ln specific leaf area \" ~ (m^{2} ~ g^{-1})), main = \"\")\n",
    "axis(side=1, labels=FALSE)\n",
    "plot(log(RWC) ~ log(EI), data=data, \n",
    "     ylab=expression(\"Ln relative water content \" ~ (g ~ g^{-1})), xlab = \"Ln endoreduplication index\")\n",
    "par(op)"
   ]
  },
  {
   "cell_type": "markdown",
   "metadata": {},
   "source": [
    "Significant relationships with SLA"
   ]
  },
  {
   "cell_type": "code",
   "execution_count": null,
   "metadata": {
    "collapsed": true
   },
   "outputs": [],
   "source": [
    "pglsAPG.SLA.EI = pgls(log(SLA) ~ log(EI) + Woody_herb + CC + log(Genome.size) + Day, apg.data, lambda = 'ML')\n",
    "summary(pglsAPG.SLA.EI) # EI n.s.\n",
    "AIC(pglsAPG.SLA.EI # 114.5968 !!!!!\n",
    "pglsZ.SLA.EI = pgls(log(SLA) ~ log(EI) + Woody_herb + CC + log(Genome.size) + Day, z.data, lambda = 'ML')\n",
    "summary(pglsZ.SLA.EI) # EI n.s.\n",
    "AIC(pglsZ.SLA.EI) # 114.481 !!!!!\n",
    "    \n",
    "# Close in AIC. Use the APG tree because it has more data\n",
    "    \n",
    "# Reduced models for plotting significant relationships\n",
    "pglsAPG.SLA.GS = pgls(log(SLA) ~ Woody_herb + log(Genome.size), apg.data, lambda = 'ML')\n",
    "pglsAPG.SLA.CC = pgls(log(SLA) ~ Woody_herb + CC, apg.data, lambda = 'ML')\n",
    "pglsAPG.SLA.Day = pgls(log(SLA) ~ Woody_herb + Day, apg.data, lambda = 'ML')\n",
    "\n",
    "windows(width=7.5, height=6)\n",
    "op=par(mar = mar.default + c(0, 1, 0, 0), mfrow=c(1,3))\n",
    "plot(log(SLA) ~ log(Genome.size), type = 'n', data, \n",
    "     ylab=expression(\"Ln specific leaf area\" ~ (m^{2} ~ g^{-1})), \n",
    "     xlab=expression(\"Ln genome size\" ~ (pg ~ \"2C\"^{-1})), ylim=c(min(log(data$SLA)), -1.618))\n",
    "points(log(SLA) ~ log(Genome.size), data=data[data$Woody_herb == \"W\", ], pch=17)\n",
    "points(log(SLA) ~ log(Genome.size), data=data[data$Woody_herb == \"H\", ], pch=6)\n",
    "summary(pglsAPG.SLA.GS)\n",
    "line.maker(pglsAPG.SLA.GS)\n",
    "\n",
    "par(mar=mar.default)\n",
    "plot(log(SLA) ~ CC, type = 'n', data, ylab=\"\", xlab=\"Chlorophyll content\", ylim=c(min(log(data$SLA)), -1.618))\n",
    "points(log(SLA) ~ CC, data=data[data$Woody_herb == \"W\", ], pch=17)\n",
    "points(log(SLA) ~ CC, data=data[data$Woody_herb == \"H\", ], pch=6)\n",
    "summary(pglsAPG.SLA.CC)\n",
    "line.maker(pglsAPG.SLA.CC)\n",
    "\n",
    "plot(log(SLA) ~ Day, type = 'n', data, ylab=\"\", xlab=\"Julian day\", ylim=c(min(log(data$SLA)), -1.618))\n",
    "points(log(SLA) ~ Day, data=data[data$Woody_herb == \"W\", ], pch=17)\n",
    "points(log(SLA) ~ Day, data=data[data$Woody_herb == \"H\", ], pch=6)\n",
    "summary(pglsAPG.SLA.Day)\n",
    "line.maker(pglsAPG.SLA.Day)\n",
    "\n",
    "legend(\"topright\",\n",
    "       inset = 0.025, \n",
    "       #cex=0.8,\n",
    "       c(\"Herbaceous\", \"Woody\"),\n",
    "       lty = c(2,1),\n",
    "       pch = c(6,17))\n",
    "par(op)"
   ]
  },
  {
   "cell_type": "markdown",
   "metadata": {},
   "source": [
    "Significant relationships with leaf relative water content (RWC). Note that the three-category growth form (A_HP_WP) has better fit here."
   ]
  },
  {
   "cell_type": "code",
   "execution_count": null,
   "metadata": {
    "collapsed": true
   },
   "outputs": [],
   "source": [
    "pglsAPG.RWC.EI = pgls(log(RWC) ~ log(EI) + A_HP_WP + CC + log(Genome.size) + Day, apg.data, lambda = 'ML')\n",
    "summary(pglsAPG.RWC.EI)\n",
    "AIC(pglsAPG.RWC.EI) # 140.8617\n",
    "# 95% CI for \"Herbaceous perennial\" regression coefficient\n",
    "c(-0.2059660 - qt(0.025, 161)*0.0878047/sqrt(162), -0.2059660 + qt(0.025, 161)*0.0878047/sqrt(162))\n",
    "# 95% CI for \"Woody perennial\" regression coefficient\n",
    "c(-1.0747413 - qt(0.025, 161)*0.1043139/sqrt(162), -1.0747413 + qt(0.025, 161)*0.1043139/sqrt(162))\n",
    "# All three GF states are different!\n",
    "pglsZ.RWC.EI = pgls(log(RWC) ~ log(EI) + A_HP_WP + CC + log(Genome.size) + Day, z.data, lambda = 'ML')\n",
    "summary(pglsZ.RWC.EI) # EI is significant (when perenniality is removed) !!!!\n",
    "AIC(pglsZ.RWC.EI) # 133.7462 !!!!!\n",
    "# 95% CI for \"Herbaceous perennial\" regression coefficient\n",
    "c(-0.2460751 - qt(0.025, 146)*0.0874583/sqrt(147), -0.2460751 + qt(0.025, 146)*0.0874583/sqrt(147))\n",
    "# 95% CI for \"Woody perennial\" regression coefficient\n",
    "c(-1.1486675 - qt(0.025, 146)*0.0977786/sqrt(147), -1.1486675 + qt(0.025, 146)*0.0977786/sqrt(147))\n",
    "\n",
    "# The Zanne phylogeny has a much better AIC score, so it will be used.\n",
    "\n",
    "# Reduced model for plotting significant relationships\n",
    "pglsZ.RWC.CC = pgls(log(RWC) ~ A_HP_WP + CC, z.data, lambda = 'ML')\n",
    "\n",
    "mar.default <- c(5,4,4,2) + 0.1\n",
    "op=par(mar = mar.default + c(0, 1, 0, 0))\n",
    "plot(log(VcVw) ~ CC, type='n', data, ylab=expression(\"Ln leaf relative water content  \" ~ (g ~ g^{-1})), \n",
    "     xlab=\"Chlorophyll content\", main=\"Zanne phylogeny (Aikake weight > 99%)\", ylim=c(0, 3.5))\n",
    "points(log(RWC) ~ CC, data=data[data$A_HP_WP == \"A\", ], pch=4)\n",
    "points(log(RWC) ~ CC, data=data[data$A_HP_WP == \"HP\", ], pch=6)\n",
    "points(log(RWC) ~ CC, data=data[data$A_HP_WP == \"WP\", ], pch=17)\n",
    "summary(pglsZ.RWC.CC)\n",
    "# Annual\n",
    "abline(pglsZ.RWC.CC$model$coef[1], pglsZ.RWC.CC$model$coef[4], lty=3)\n",
    "# Herbaceous perennial\n",
    "abline(pglsZ.RWC.CC$model$coef[1] + pglsZ.RWC.CC$model$coef[2], pglsZ.RWC.CC$model$coef[4], lty=2)\n",
    "# Woody perennial\n",
    "abline(pglsZ.RWC.CC$model$coef[1] + pglsZ.RWC.CC$model$coef[3], pglsZ.RWC.CC$model$coef[4], lty=1)\n",
    "legend(\"topright\",\n",
    "       inset = 0.025,\n",
    "       cex=0.9,\n",
    "       c(\"Annual\", \"Herbaceous Perennial\", \"Woody Perennial\"),\n",
    "       lty = c(3,2,1),\n",
    "       pch = c(4,6,17))\n",
    "par(op)"
   ]
  },
  {
   "cell_type": "markdown",
   "metadata": {},
   "source": [
    "##### SLA and endopolyploidy for Angiosperms with endopolyploid (EI >= 0.1) leaves"
   ]
  },
  {
   "cell_type": "code",
   "execution_count": null,
   "metadata": {
    "collapsed": true
   },
   "outputs": [],
   "source": []
  }
 ],
 "metadata": {
  "kernelspec": {
   "display_name": "Python 3",
   "language": "python",
   "name": "python3"
  },
  "language_info": {
   "codemirror_mode": {
    "name": "ipython",
    "version": 3
   },
   "file_extension": ".py",
   "mimetype": "text/x-python",
   "name": "python",
   "nbconvert_exporter": "python",
   "pygments_lexer": "ipython3",
   "version": "3.5.1"
  }
 },
 "nbformat": 4,
 "nbformat_minor": 0
}
