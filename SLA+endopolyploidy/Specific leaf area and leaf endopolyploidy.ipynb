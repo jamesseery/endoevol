{
 "cells": [
  {
   "cell_type": "markdown",
   "metadata": {},
   "source": [
    "# Specific leaf area and leaf endopolyploidy"
   ]
  },
  {
   "cell_type": "markdown",
   "metadata": {},
   "source": [
    "James Seery (jseery@mail.uoguelph.ca)"
   ]
  },
  {
   "cell_type": "markdown",
   "metadata": {},
   "source": [
    "Load packages for phylogenetic regression (caper) and function scripts."
   ]
  },
  {
   "cell_type": "code",
   "execution_count": null,
   "metadata": {
    "collapsed": true
   },
   "outputs": [],
   "source": [
    "tryCatch(    # To run caper, load this package dependency.\n",
    "    library(mvtnorm),\n",
    "    error = install.packages(\"mvtnorm\", repos = \"http://cran.utstat.utoronto.ca/\"))\n",
    "tryCatch(    # ... and this one too.\n",
    "    library(ape),\n",
    "    error = install.packages(\"ape\", repos = \"http://cran.utstat.utoronto.ca/\"))\n",
    "tryCatch(    # Now load caper package.\n",
    "    library(caper),\n",
    "    error = install.packages(\"caper\", repos = \"http://cran.utstat.utoronto.ca/\"))"
   ]
  },
  {
   "cell_type": "markdown",
   "metadata": {},
   "source": [
    "Load phylogenies: (1) The Angiosperm Phylogeny Group has family-level resolution; therefore, each family is a polytomy. (2) The Zanne phylogeny has species-level resolution, but does not have all species."
   ]
  },
  {
   "cell_type": "code",
   "execution_count": 2,
   "metadata": {
    "collapsed": true
   },
   "outputs": [
    {
     "name": "stderr",
     "output_type": "stream",
     "text": [
      "Loading required package: ape\n",
      "Loading required package: MASS\n",
      "Loading required package: mvtnorm\n"
     ]
    }
   ],
   "source": [
    "setwd(\"../../Raw_data\")\n",
    "\n",
    "apg.tree = read.tree(\"APG_phylo/Webb_ages_pruned_unrooted.nwk\")\n",
    "apg.tree = makeLabel(apg.tree) # Fix duplicate node names (because some are blank) error for comparative.data()\n",
    "z.tree = read.tree(\"Zanne_phylo/Zanne_pruned.nwk\")\n",
    "z.tree = makeLabel(z.tree)"
   ]
  },
  {
   "cell_type": "markdown",
   "metadata": {},
   "source": [
    "Load and compile relevant datasets: specific leaf area (SLA); (2) relative leaf water content (RWC); (3) leaf chlorophyll content (CC); (4) flow cytometry data on genome size and leaf endopolyploidy; and (5) growth form (GF). Endopolyploidy is represented in two ways: (1) leaf endoreduplication index (EI) and (2) mean leaf ploidy (MeanC). EXPORT THIS INTO FUNCTIONS HELD IN Raw_data"
   ]
  },
  {
   "cell_type": "code",
   "execution_count": null,
   "metadata": {
    "collapsed": true
   },
   "outputs": [],
   "source": [
    "SLA_RWC = read.csv(\"SLA_RWC.csv\")\n",
    "CC = read.csv(\"CC.csv\")\n",
    "Flow_cytometry = read.csv(\"Flow_cytometry.csv\")\n",
    "GF = read.csv(\"GF.csv\")\n",
    "names(GF) = c(\"Species\", \"Lifespan\", \"Ann_per\", \"GH\", \"Wood_herb\")\n",
    "\n",
    "# Turn raw data into something sensible\n",
    "SLA_RWC$SLA = SLA_RWC$LeafArea/(10000*SLA_RWC$DriedMass) # Standardize SLA to square metres per gram\n",
    "SLA_RWC$RWC = (SLA_RWC$FreshMass - SLA_RWC$DriedMass)/SLA_RWC$DriedMass\n",
    "Flow_cytometry$EI = rowMeans(cbind(Flow_cytometry$EI.FL2, Flow_cytometry$EI.FL3), na.rm=TRUE) # Get mean EI across the cytometers two detectors: FL2 and FL3\n",
    "Flow_cytometry$MeanC = rowMeans(cbind(Flow_cytometry$MeanC.FL2, Flow_cytometry$MeanC.FL3), na.rm=TRUE)\n",
    "GF$A_HP_WP = character(length(GF$Species))\n",
    "GF$A_HP_WP[GF$Wood_herb == 'H'] = \"HP\"\n",
    "GF$A_HP_WP[GF$Ann_per == 'A'] = \"A\" # This command must come after the former. The former command incorrectly assigns \"HP\" to annual species.\n",
    "GF$A_HP_WP[GF$Wood_herb == 'W'] = \"WP\"\n",
    "\n",
    "# Get species-level mean of each trait\n",
    "mean.SLA_RWC = aggregate(data.frame(SLA = SLA_RWC$SLA, RWC = SLA_RWC$VcVw),\n",
    "                         by=list(Species = SLA_RWC$Species), mean, na.rm=TRUE)\n",
    "mean.CC = aggregate(list(CC = CC$CC),\n",
    "                    by=list(Species = CC$Species), mean, na.rm=TRUE)\n",
    "mean.Flow_cytometry = aggregate(data.frame(Genome.size = Flow_cytometry$Genome.size,\n",
    "                                           EI = Flow_cytometry$EI\n",
    "                                           MeanC = Flow_cytometry$MeanC\n",
    "                                           Day = Flow_cytometry$Day),\n",
    "                     by=list(Species = DNA$Species), mean, na.rm=TRUE)\n",
    "\n",
    "# Merge into one data frame\n",
    "data_partA = merge(mean.SLA_RWC,\n",
    "                   list(Species = GF$Species, Wood_herb = GF$Wood_herb, A_HP_WP = GF$A_HP_WP),\n",
    "                   by=\"Species\", all.x=TRUE)\n",
    "data_partB = merge(mean.Flow_cytometry,\n",
    "                   mean.CC,\n",
    "                   by=\"Species\", all=TRUE)\n",
    "data = merge(dataA,\n",
    "             dataB,\n",
    "             by=\"Species\", all.x=TRUE)\n",
    "\n",
    "write.csv(data, file=\"SLA+endopolyploidy.csv\")"
   ]
  },
  {
   "cell_type": "markdown",
   "metadata": {},
   "source": [
    "Subset data for (1) only herbaceous species and (2) only endopolyploid species."
   ]
  },
  {
   "cell_type": "code",
   "execution_count": null,
   "metadata": {
    "collapsed": true
   },
   "outputs": [],
   "source": [
    "data.herb = subset(data, data$Wood_herb == 'H')\n",
    "data.endo = subset(data, data$EI >= 0.1)"
   ]
  },
  {
   "cell_type": "markdown",
   "metadata": {},
   "source": [
    "Combine the data and phylogenies into a object of type comparative.data."
   ]
  },
  {
   "cell_type": "code",
   "execution_count": null,
   "metadata": {
    "collapsed": true
   },
   "outputs": [],
   "source": [
    "z.data = comparative.data(phy=z.tree, data=data, names.col=\"Species\", vcv=TRUE) # vcv=TRUE will do some pre-processing for the regression by calculating the variance-covariance matrix\n",
    "z.data.herb = comparative.data(phy=z.tree, data=data.herb, names.col=\"Species\", vcv=TRUE)\n",
    "z.data.endo = comparative.data(phy=z.tree, data=data.endo, names.col=\"Species\", vcv=TRUE)\n",
    "data$Species = tolower(data$Species))\n",
    "apg.data = comparative.data(phy=apg.tree, data=data, names.col=\"Species\", vcv=TRUE)\n",
    "data.herb$Species = tolower(data.herb$Species))\n",
    "apg.data.herb = comparative.data(phy=apg.tree, data=data.herb, names.col=\"Species\", vcv=TRUE)\n",
    "data.endo$Species = tolower(data.endo$Species))\n",
    "apg.data.endo = comparative.data(phy=apg.tree, data=data.endo, names.col=\"Species\", vcv=TRUE)"
   ]
  },
  {
   "cell_type": "markdown",
   "metadata": {},
   "source": [
    "Decide how to transform each data column."
   ]
  },
  {
   "cell_type": "code",
   "execution_count": null,
   "metadata": {
    "collapsed": true
   },
   "outputs": [],
   "source": [
    "attach(data)\n",
    "op = par(mfrow = c(2,2)) # Display 2x2 plots\n",
    "\n",
    "hist(SLA, breaks=12)\n",
    "qqnorm(SLA)\n",
    "qqline(SLA)\n",
    "hist(log(SLA), breaks=12)\n",
    "qqnorm(log(SLA))\n",
    "qqline(log(SLA))\n",
    "\n",
    "par(op) # Reset plot display\n",
    "detach(data)"
   ]
  },
  {
   "cell_type": "code",
   "execution_count": null,
   "metadata": {
    "collapsed": true
   },
   "outputs": [],
   "source": [
    "hist(MeanC, breaks=12)\n",
    "qqnorm(MeanC)\n",
    "qqline(MeanC)\n",
    "hist(log(MeanC), breaks=12)\n",
    "qqnorm(log(MeanC))\n",
    "qqline(log(MeanC))\n"
   ]
  },
  {
   "cell_type": "code",
   "execution_count": null,
   "metadata": {
    "collapsed": true
   },
   "outputs": [],
   "source": [
    "hist(sqrt(MeanC), breaks=12) # worse\n",
    "hist(exp(MeanC), breaks=12) # even worse\n",
    "hist(1/MeanC, breaks=12) # Ughh\n",
    "hist(1/sqrt(MeanC), breaks=12) # still crap\n",
    "hist(MeanC^2, breaks=12) # worse than untransformed\n",
    "hist(MeanC^(-2), breaks=12) # Better. crap like log transform though\n",
    "hist(MeanC^(-3), breaks=12) # Similar. crap like log transform though\n",
    "hist(MeanC^(-4), breaks=12) # Better. crap like log transform though\n",
    "hist(MeanC^(-5), breaks=12) # Best?\n",
    "qqnorm(MeanC^(-5))\n",
    "qqline(MeanC^(-5)) # Nah. log is best. Maybe just use EI.\n",
    "\n",
    "hist(EI, breaks=12)\n",
    "qqnorm(EI)\n",
    "hist(log(EI), breaks=12) # Great! !!!!!!!!!!!!!!!\n",
    "qqnorm(log(EI))\n",
    "qqline(log(EI)) # not perfect\n",
    "hist(sqrt(EI), breaks=12) # worse\n",
    "hist(exp(EI), breaks=12) # even worse\n",
    "hist(1/EI, breaks=12) # Ughh\n",
    "hist(1/sqrt(EI), breaks=12) # Good. Not as good as log\n",
    "qqnorm(1/sqrt(EI))\n",
    "qqline(1/sqrt(EI)) # Similar in quality to log?\n",
    "hist(EI^2, breaks=12) # worse than untransformed\n",
    "hist(EI^3, breaks=12) # Better. crap like log transform though\n",
    "hist(EI^4, breaks=12) # Similar. crap like log transform though\n",
    "\n",
    "hist(Genome.size, breaks=12)\n",
    "qqnorm(Genome.size)\n",
    "hist(log(Genome.size), breaks=12) # much better\n",
    "qqnorm(log(Genome.size))\n",
    "qqline(log(Genome.size)) # Not perfect but pretty good.\n",
    "hist(sqrt(Genome.size), breaks=12) # Worse\n",
    "hist(exp(Genome.size), breaks=12) # terrible\n",
    "hist(1/Genome.size, breaks=12) # heavier tails than log\n",
    "hist(1/sqrt(Genome.size), breaks=12) # neat! kinda multimodal though\n",
    "qqnorm(1/sqrt(Genome.size))\n",
    "qqline(1/sqrt(Genome.size)) # Even better than log. !!!!!!!!!\n",
    "hist(Genome.size^2)\n",
    "hist(Genome.size^3) # Terrible\n",
    "hist(Genome.size^(-2))\n",
    "hist(Genome.size^(-3)) # Also terrible\n",
    "\n",
    "hist(VcVw, breaks=12)\n",
    "qqnorm(VcVw)\n",
    "hist(log(VcVw), breaks=12) # Tails are too heavy.... ok..\n",
    "qqnorm(log(VcVw))\n",
    "qqline(log(VcVw)) # Ok.\n",
    "hist(sqrt(VcVw), breaks=12) # Worse\n",
    "hist(exp(VcVw), breaks=12) # terrible\n",
    "hist(1/VcVw, breaks=12) # quite bad\n",
    "hist(1/sqrt(VcVw), breaks=12) # Bimodal... Try different growth forms !!!!!!!!!!!!!!!\n",
    "hist(1/sqrt(VcVw[Gh2 == \"H\"]), breaks=12) # Unimodal\n",
    "hist(1/sqrt(VcVw[Gh2 == \"W\"]), breaks=12) # Mostly unimodal\n",
    "hist(1/sqrt(VcVw[Dur2 == \"A\"]), breaks=12) # Multimodal garbage\n",
    "hist(1/sqrt(VcVw[Dur2 == \"P\"]), breaks=12) # Bimodal. Separate these into woody and herbaceous\n",
    "hist(1/sqrt(VcVw[Dur2 == \"P\" & Gh2 == \"H\"]), breaks=12) # Unimodal\n",
    "hist(1/sqrt(VcVw[Dur2 == \"P\" & Gh2 == \"W\"]), breaks=12) # Unimodal\n",
    "# It seems that when an inverse square root transformation is applied to VcVw, there is a bimodality mostly caused by the woody/herbaceous growth habit.\n",
    "# Try this with log too\n",
    "hist(log(VcVw[Gh2 == \"H\"]), breaks=12) # Mostly unimodal but biased\n",
    "hist(log(VcVw[Gh2 == \"W\"]), breaks=12) # Mostly unimodal but biased\n",
    "# qqplots\n",
    "qqnorm(1/sqrt(VcVw[Gh2 == \"H\"]))\n",
    "qqline(1/sqrt(VcVw[Gh2 == \"H\"])) # Excellent\n",
    "qqnorm(log(VcVw[Gh2 == \"H\"]))\n",
    "qqline(log(VcVw[Gh2 == \"H\"])) # Not as good.\n",
    "qqnorm(1/sqrt(VcVw[Gh2 == \"W\"]))\n",
    "qqline(1/sqrt(VcVw[Gh2 == \"W\"])) # Ok. not great\n",
    "qqnorm(log(VcVw[Gh2 == \"W\"]))\n",
    "qqline(log(VcVw[Gh2 == \"W\"])) # Ok. not great\n",
    "# Even though log works better for woody species, I'm going to choose inverse square root because it looks better for all species and herbaceous species which we have more of.\n",
    "hist(VcVw^2)\n",
    "hist(VcVw^3) # Terrible\n",
    "hist(VcVw^(-2))\n",
    "hist(VcVw^(-3)) # Also terrible\n",
    "\n",
    "hist(Day)\n",
    "\n",
    "plot(log(SLA) ~ log(MeanC))\n",
    "plot(1/SLA ~ log(MeanC))\n",
    "plot(1/sqrt(SLA) ~ log(MeanC)) # Log and fancy transform for SLA are similar really...\n",
    "\n",
    "plot(log(SLA) ~ log(EI)) # Beauty! !!!!\n",
    "plot(1/SLA ~ log(EI))\n",
    "plot(1/sqrt(SLA) ~ log(EI)) # Fancy transform just as good\n",
    "\n",
    "plot(log(SLA) ~ log(Genome.size)) # Best !!!!\n",
    "plot(log(SLA) ~ 1/sqrt(Genome.size)) # Terrible\n",
    "\n",
    "plot(log(VcVw) ~ log(EI))\n",
    "\n",
    "plot(1/sqrt(VcVw) ~ log(EI)) # not better\n",
    "\n",
    "# log(SLA)\n",
    "# 1/SLA\n",
    "# 1/sqrt(SLA)\n",
    "# log(MeanC)\n",
    "# log(EI)\n",
    "# log(Genome.size)\n",
    "# 1/sqrt(VcVw)"
   ]
  }
 ],
 "metadata": {
  "kernelspec": {
   "display_name": "Python 3",
   "language": "python",
   "name": "python3"
  },
  "language_info": {
   "codemirror_mode": {
    "name": "ipython",
    "version": 3
   },
   "file_extension": ".py",
   "mimetype": "text/x-python",
   "name": "python",
   "nbconvert_exporter": "python",
   "pygments_lexer": "ipython3",
   "version": "3.5.1"
  }
 },
 "nbformat": 4,
 "nbformat_minor": 0
}
